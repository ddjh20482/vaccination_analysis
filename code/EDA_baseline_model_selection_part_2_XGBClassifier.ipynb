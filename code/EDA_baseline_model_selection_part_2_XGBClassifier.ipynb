{
 "cells": [
  {
   "cell_type": "code",
   "execution_count": 1,
   "metadata": {},
   "outputs": [],
   "source": [
    "# import necessar libraries\n",
    "import pandas as pd\n",
    "import numpy as np\n",
    "\n",
    "import data_preparation as dp\n",
    "import visualizations as viz\n",
    "\n",
    "import warnings\n",
    "warnings.filterwarnings(action='ignore')\n",
    "\n",
    "# read data\n",
    "data = pd.read_csv(\"../data/training_set_features.csv\", index_col = 0)\n",
    "vac = pd.read_csv(\"../data/training_set_labels.csv\", index_col = 0)\n",
    "\n",
    "all_data = data.merge(vac['h1n1_vaccine'], left_index=True, right_index=True)\n",
    "\n",
    "all_data.drop(['doctor_recc_seasonal',\n",
    "               'opinion_seas_vacc_effective',\n",
    "               'opinion_seas_risk',\n",
    "               'opinion_seas_sick_from_vacc'], \n",
    "              axis = 1,\n",
    "              inplace=True)\n",
    "\n",
    "X = dp.missing(all_data)\n",
    "y = X.pop('h1n1_vaccine')\n",
    "\n",
    "for c in X.columns:\n",
    "    X = dp.dummy(X, c)"
   ]
  },
  {
   "cell_type": "code",
   "execution_count": 2,
   "metadata": {},
   "outputs": [
    {
     "data": {
      "text/plain": [
       "'import re\\nregex = re.compile(r\"\\\\[|\\\\]|<\", re.IGNORECASE)\\nX.columns = [regex.sub(\"L\", col) if any(x in str(col) for x in set((\\'[\\', \\']\\', \\'<\\'))) else col for col in X.columns.values]'"
      ]
     },
     "execution_count": 2,
     "metadata": {},
     "output_type": "execute_result"
    }
   ],
   "source": [
    "'''import re\n",
    "regex = re.compile(r\"\\[|\\]|<\", re.IGNORECASE)\n",
    "X.columns = [regex.sub(\"L\", col) if any(x in str(col) for x in set(('[', ']', '<'))) else col for col in X.columns.values]'''"
   ]
  },
  {
   "cell_type": "code",
   "execution_count": 2,
   "metadata": {},
   "outputs": [],
   "source": [
    "X.columns = X.columns.str.replace('<', 'L')"
   ]
  },
  {
   "cell_type": "code",
   "execution_count": 3,
   "metadata": {},
   "outputs": [],
   "source": [
    "from sklearn.model_selection import train_test_split\n",
    "X_train, X_test, y_train, y_test = train_test_split(X, y, random_state = 1)"
   ]
  },
  {
   "cell_type": "markdown",
   "metadata": {},
   "source": [
    "XBG model is handled separately as some of the column names had to be modified to fit the model."
   ]
  },
  {
   "cell_type": "code",
   "execution_count": 4,
   "metadata": {},
   "outputs": [
    {
     "name": "stdout",
     "output_type": "stream",
     "text": [
      "[14:05:52] WARNING: ..\\src\\learner.cc:1115: Starting in XGBoost 1.3.0, the default evaluation metric used with the objective 'binary:logistic' was changed from 'error' to 'logloss'. Explicitly set eval_metric if you'd like to restore the old behavior.\n",
      "[14:05:53] WARNING: ..\\src\\learner.cc:1115: Starting in XGBoost 1.3.0, the default evaluation metric used with the objective 'binary:logistic' was changed from 'error' to 'logloss'. Explicitly set eval_metric if you'd like to restore the old behavior.\n",
      "[14:05:54] WARNING: ..\\src\\learner.cc:1115: Starting in XGBoost 1.3.0, the default evaluation metric used with the objective 'binary:logistic' was changed from 'error' to 'logloss'. Explicitly set eval_metric if you'd like to restore the old behavior.\n",
      "[14:05:55] WARNING: ..\\src\\learner.cc:1115: Starting in XGBoost 1.3.0, the default evaluation metric used with the objective 'binary:logistic' was changed from 'error' to 'logloss'. Explicitly set eval_metric if you'd like to restore the old behavior.\n",
      "CV score:     84.73%\n",
      "X-test score: 84.78%\n",
      "RMSE:         0.3901\n",
      "\n",
      "Train score\n",
      "              precision    recall  f1-score   support\n",
      "\n",
      "           0       0.92      0.97      0.95     15770\n",
      "           1       0.87      0.68      0.77      4260\n",
      "\n",
      "    accuracy                           0.91     20030\n",
      "   macro avg       0.90      0.83      0.86     20030\n",
      "weighted avg       0.91      0.91      0.91     20030\n",
      "\n",
      "\n",
      "\n",
      "X-test score\n",
      "\n",
      "              precision    recall  f1-score   support\n",
      "\n",
      "           0       0.88      0.94      0.91      5263\n",
      "           1       0.69      0.50      0.58      1414\n",
      "\n",
      "    accuracy                           0.85      6677\n",
      "   macro avg       0.78      0.72      0.75      6677\n",
      "weighted avg       0.84      0.85      0.84      6677\n",
      "\n"
     ]
    }
   ],
   "source": [
    "from xgboost import XGBClassifier\n",
    "xgbc = XGBClassifier()\n",
    "dp.scores(X_train, y_train, X_test, y_test, xgbc)"
   ]
  },
  {
   "cell_type": "code",
   "execution_count": 5,
   "metadata": {},
   "outputs": [
    {
     "name": "stdout",
     "output_type": "stream",
     "text": [
      "[14:05:56] WARNING: ..\\src\\learner.cc:1115: Starting in XGBoost 1.3.0, the default evaluation metric used with the objective 'binary:logistic' was changed from 'error' to 'logloss'. Explicitly set eval_metric if you'd like to restore the old behavior.\n"
     ]
    },
    {
     "data": {
      "image/png": "[encoded data removed]",
      "text/plain": [
       "<Figure size 1152x576 with 2 Axes>"
      ]
     },
     "metadata": {
      "needs_background": "light"
     },
     "output_type": "display_data"
    }
   ],
   "source": [
    "viz.plot_cm(X_train, y_train, X_test, y_test, xgbc)"
   ]
  }
 ],
 "metadata": {
  "kernelspec": {
   "display_name": "Python (learn-env)",
   "language": "python",
   "name": "learn-env"
  },
  "language_info": {
   "codemirror_mode": {
    "name": "ipython",
    "version": 3
   },
   "file_extension": ".py",
   "mimetype": "text/x-python",
   "name": "python",
   "nbconvert_exporter": "python",
   "pygments_lexer": "ipython3",
   "version": "3.8.5"
  }
 },
 "nbformat": 4,
 "nbformat_minor": 4
}
